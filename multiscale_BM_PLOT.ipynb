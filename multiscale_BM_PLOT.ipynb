{
 "cells": [
  {
   "cell_type": "markdown",
   "id": "7fc41ddd",
   "metadata": {},
   "source": [
    "# Generate interactive html visualizations of multiscale Ball Mapper graphs.\n",
    "Use `multiscale_BM_example.R` to create the input files"
   ]
  },
  {
   "cell_type": "code",
   "execution_count": null,
   "id": "73e6f93e",
   "metadata": {},
   "outputs": [],
   "source": [
    "import numpy as np\n",
    "from bokeh.io import show"
   ]
  },
  {
   "cell_type": "markdown",
   "id": "2e2d3c71",
   "metadata": {},
   "source": [
    "## Small Example"
   ]
  },
  {
   "cell_type": "code",
   "execution_count": null,
   "id": "2e43a3da",
   "metadata": {},
   "outputs": [],
   "source": [
    "from multiscale_BM_utils import plot_multiscale_BM"
   ]
  },
  {
   "cell_type": "code",
   "execution_count": null,
   "id": "8d95e58e",
   "metadata": {},
   "outputs": [],
   "source": [
    "d_matrix = np.loadtxt('output/test_1_edges', delimiter=',')\n",
    "d_matrix"
   ]
  },
  {
   "cell_type": "code",
   "execution_count": null,
   "id": "45e9ceb1",
   "metadata": {},
   "outputs": [],
   "source": [
    "distance_from_landmarks = np.loadtxt('output/test_1_distance_of_points_in_order_from_landmarks', delimiter=',')\n",
    "distance_from_landmarks"
   ]
  },
  {
   "cell_type": "code",
   "execution_count": null,
   "id": "446efcbc",
   "metadata": {},
   "outputs": [],
   "source": [
    "color_of_landmarks = np.loadtxt('output/test_1_coloration_in_order_from_landmarks', delimiter=',')\n",
    "color_of_landmarks"
   ]
  },
  {
   "cell_type": "code",
   "execution_count": null,
   "id": "86ca5ee3",
   "metadata": {},
   "outputs": [],
   "source": [
    "multiscale_BM = plot_multiscale_BM(d_matrix, \n",
    "                                   distance_from_landmarks,\n",
    "                                   color_of_landmarks,)"
   ]
  },
  {
   "cell_type": "code",
   "execution_count": null,
   "id": "c6d13b48",
   "metadata": {},
   "outputs": [],
   "source": [
    "show(multiscale_BM)"
   ]
  },
  {
   "cell_type": "markdown",
   "id": "08696f95",
   "metadata": {},
   "source": [
    "# Knots Example"
   ]
  },
  {
   "cell_type": "code",
   "execution_count": null,
   "id": "62d2ad6c",
   "metadata": {},
   "outputs": [],
   "source": [
    "from multiscale_BM_utils import plot_sampled_multiscale_BM"
   ]
  },
  {
   "cell_type": "code",
   "execution_count": null,
   "id": "778b1a50",
   "metadata": {
    "scrolled": true
   },
   "outputs": [],
   "source": [
    "d_matrix = np.loadtxt('output/jones13n_20_edges', delimiter=',')\n",
    "d_matrix.shape"
   ]
  },
  {
   "cell_type": "code",
   "execution_count": null,
   "id": "489103cf",
   "metadata": {},
   "outputs": [],
   "source": [
    "distance_from_landmarks = np.loadtxt('output/jones13n_20_distance_of_points_in_order_from_landmarks', delimiter=',')\n",
    "distance_from_landmarks.shape"
   ]
  },
  {
   "cell_type": "code",
   "execution_count": null,
   "id": "c98b9e79",
   "metadata": {},
   "outputs": [],
   "source": [
    "color_of_landmarks = np.loadtxt('output/jones13n_20_coloration_in_order_from_landmarks', delimiter=',')\n",
    "color_of_landmarks.shape"
   ]
  },
  {
   "cell_type": "markdown",
   "id": "d0cde047",
   "metadata": {},
   "source": [
    "A matrix with 12k columns is starting to become too large to include in a html file. Lets sample it at fixed stepsized between 0 and the maximun distance in `distance_from_landmarks` ."
   ]
  },
  {
   "cell_type": "code",
   "execution_count": null,
   "id": "9cb9df7d",
   "metadata": {},
   "outputs": [],
   "source": [
    "sampled_multiscale_BM = plot_sampled_multiscale_BM(d_matrix, \n",
    "                                                   distance_from_landmarks,\n",
    "                                                   color_of_landmarks,\n",
    "                                                   num_of_points = 1000, # number of sampled distances\n",
    "                                                   log_scaling=True) # balls radii scale as log10(cluster_size)"
   ]
  },
  {
   "cell_type": "code",
   "execution_count": null,
   "id": "a84e5d44",
   "metadata": {},
   "outputs": [],
   "source": [
    "show(sampled_multiscale_BM)"
   ]
  },
  {
   "cell_type": "markdown",
   "id": "8cb989cf",
   "metadata": {},
   "source": [
    "# Export png"
   ]
  },
  {
   "cell_type": "markdown",
   "id": "122725e4",
   "metadata": {},
   "source": [
    "We can render the multiBM at various scales and save the images to png files.  \n",
    "With that is straightforward to create nice gifs\n",
    "https://ezgif.com/maker"
   ]
  },
  {
   "cell_type": "markdown",
   "id": "ff218fdd",
   "metadata": {},
   "source": [
    "### NOTE\n",
    "Bokeh requires additional packages to export to png.  \n",
    "Please consult https://docs.bokeh.org/en/latest/docs/user_guide/export.html"
   ]
  },
  {
   "cell_type": "code",
   "execution_count": null,
   "id": "8990e55a",
   "metadata": {},
   "outputs": [],
   "source": [
    "from multiscale_BM_utils import save_graph_to_png"
   ]
  },
  {
   "cell_type": "code",
   "execution_count": null,
   "id": "55dff25c",
   "metadata": {},
   "outputs": [],
   "source": [
    "try: from selenium import webdriver\n",
    "except: raise ValueError('Please install selenium with the required drivers: \\n \\\n",
    "                         for Firefox users: conda install selenium geckodriver -c conda-forge \\n \\\n",
    "                         for Chrome  users: conda install selenium python-chromedriver-binary -c conda-forge \\n \\\n",
    "                         for more info please consult https://docs.bokeh.org/en/latest/docs/user_guide/export.html')"
   ]
  },
  {
   "cell_type": "code",
   "execution_count": null,
   "id": "f476d0df",
   "metadata": {},
   "outputs": [],
   "source": [
    "no_default_driver_found = False\n",
    "\n",
    "try: driver = webdriver.Firefox()\n",
    "except:\n",
    "    try: driver = webdriver.Chrome()\n",
    "    except: \n",
    "        no_default_driver_found = True\n",
    "        raise ValueError('No deafult driver found. \\n \\\n",
    "        Download the correct chromedriver for your machine from https://chromedriver.chromium.org/downloads . \\n \\\n",
    "        Add its filepath in the cell below.')"
   ]
  },
  {
   "cell_type": "code",
   "execution_count": null,
   "id": "52603f9d",
   "metadata": {},
   "outputs": [],
   "source": [
    "# If the previous cell failed, \n",
    "# Download the correct chromedriver for your machine from https://chromedriver.chromium.org/downloads .\n",
    "# Add its filepath below.\n",
    "\n",
    "if no_default_driver_found:\n",
    "    driver = webdriver.Chrome('/Users/davide/GitHub/multiscaleBM/chromedriver')"
   ]
  },
  {
   "cell_type": "code",
   "execution_count": null,
   "id": "62161c58",
   "metadata": {},
   "outputs": [],
   "source": [
    "epsilon_list = [10, 20, 50] # list of epsilon to render the graph at\n",
    "\n",
    "save_graph_to_png(epsilon_list, driver, \n",
    "                  d_matrix,\n",
    "                  distance_from_landmarks,\n",
    "                  color_of_landmarks,\n",
    "                  plot_width = 700,\n",
    "                  plot_height = 700,\n",
    "                  filename = 'img/plot', \n",
    "                  add_colorbar = False,\n",
    "                  log_scaling=True)"
   ]
  },
  {
   "cell_type": "code",
   "execution_count": null,
   "id": "435b274d",
   "metadata": {},
   "outputs": [],
   "source": []
  },
  {
   "cell_type": "code",
   "execution_count": null,
   "id": "2417b40f",
   "metadata": {},
   "outputs": [],
   "source": []
  }
 ],
 "metadata": {
  "kernelspec": {
   "display_name": "Python 3",
   "language": "python",
   "name": "python3"
  },
  "language_info": {
   "codemirror_mode": {
    "name": "ipython",
    "version": 3
   },
   "file_extension": ".py",
   "mimetype": "text/x-python",
   "name": "python",
   "nbconvert_exporter": "python",
   "pygments_lexer": "ipython3",
   "version": "3.8.6"
  }
 },
 "nbformat": 4,
 "nbformat_minor": 5
}
