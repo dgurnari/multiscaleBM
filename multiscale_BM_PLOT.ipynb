{
 "cells": [
  {
   "cell_type": "code",
   "execution_count": 1,
   "id": "73e6f93e",
   "metadata": {},
   "outputs": [],
   "source": [
    "import numpy as np\n",
    "from bokeh.io import show"
   ]
  },
  {
   "cell_type": "markdown",
   "id": "2e2d3c71",
   "metadata": {},
   "source": [
    "# Small Example"
   ]
  },
  {
   "cell_type": "code",
   "execution_count": null,
   "id": "2e43a3da",
   "metadata": {},
   "outputs": [],
   "source": [
    "from multiscale_BM_utils import plot_multiscale_BM"
   ]
  },
  {
   "cell_type": "code",
   "execution_count": null,
   "id": "8d95e58e",
   "metadata": {},
   "outputs": [],
   "source": [
    "d_matrix = np.loadtxt('output/test_1_edges', delimiter=',')\n",
    "d_matrix"
   ]
  },
  {
   "cell_type": "code",
   "execution_count": null,
   "id": "45e9ceb1",
   "metadata": {},
   "outputs": [],
   "source": [
    "distance_from_landmarks = np.loadtxt('output/test_1_distance_of_points_in_order_from_landmarks', delimiter=',')\n",
    "distance_from_landmarks"
   ]
  },
  {
   "cell_type": "code",
   "execution_count": null,
   "id": "446efcbc",
   "metadata": {},
   "outputs": [],
   "source": [
    "color_of_landmarks = np.loadtxt('output/test_1_coloration_in_order_from_landmarks', delimiter=',')\n",
    "color_of_landmarks"
   ]
  },
  {
   "cell_type": "code",
   "execution_count": null,
   "id": "86ca5ee3",
   "metadata": {},
   "outputs": [],
   "source": [
    "multiscale_BM = plot_multiscale_BM(d_matrix, \n",
    "                          distance_from_landmarks,\n",
    "                          color_of_landmarks,)"
   ]
  },
  {
   "cell_type": "code",
   "execution_count": null,
   "id": "c6d13b48",
   "metadata": {},
   "outputs": [],
   "source": [
    "show(multiscale_BM)"
   ]
  },
  {
   "cell_type": "markdown",
   "id": "08696f95",
   "metadata": {},
   "source": [
    "# Knots Example"
   ]
  },
  {
   "cell_type": "code",
   "execution_count": 2,
   "id": "62d2ad6c",
   "metadata": {},
   "outputs": [],
   "source": [
    "from multiscale_BM_utils import plot_sampled_multiscale_BM"
   ]
  },
  {
   "cell_type": "code",
   "execution_count": 3,
   "id": "778b1a50",
   "metadata": {},
   "outputs": [
    {
     "data": {
      "text/plain": [
       "(74, 74)"
      ]
     },
     "execution_count": 3,
     "metadata": {},
     "output_type": "execute_result"
    }
   ],
   "source": [
    "d_matrix = np.loadtxt('output/jones13n_20_edges', delimiter=',')\n",
    "d_matrix.shape"
   ]
  },
  {
   "cell_type": "code",
   "execution_count": 4,
   "id": "489103cf",
   "metadata": {},
   "outputs": [
    {
     "data": {
      "text/plain": [
       "(74, 12472)"
      ]
     },
     "execution_count": 4,
     "metadata": {},
     "output_type": "execute_result"
    }
   ],
   "source": [
    "distance_from_landmarks = np.loadtxt('output/jones13n_20_distance_of_points_in_order_from_landmarks', delimiter=',')\n",
    "distance_from_landmarks.shape"
   ]
  },
  {
   "cell_type": "code",
   "execution_count": 5,
   "id": "c98b9e79",
   "metadata": {},
   "outputs": [
    {
     "data": {
      "text/plain": [
       "(74, 12472)"
      ]
     },
     "execution_count": 5,
     "metadata": {},
     "output_type": "execute_result"
    }
   ],
   "source": [
    "color_of_landmarks = np.loadtxt('output/jones13n_20_coloration_in_order_from_landmarks', delimiter=',')\n",
    "color_of_landmarks.shape"
   ]
  },
  {
   "cell_type": "code",
   "execution_count": null,
   "id": "9cb9df7d",
   "metadata": {},
   "outputs": [],
   "source": [
    "sampled_multiscale_BM = plot_sampled_multiscale_BM(d_matrix, \n",
    "                                                   distance_from_landmarks,\n",
    "                                                   color_of_landmarks,\n",
    "                                                   num_of_points = 1000,\n",
    "                                                   exponential_scaling=True)"
   ]
  },
  {
   "cell_type": "code",
   "execution_count": null,
   "id": "a84e5d44",
   "metadata": {},
   "outputs": [],
   "source": [
    "show(sampled_multiscale_BM)"
   ]
  },
  {
   "cell_type": "markdown",
   "id": "8cb989cf",
   "metadata": {},
   "source": [
    "# export png"
   ]
  },
  {
   "cell_type": "code",
   "execution_count": 6,
   "id": "8990e55a",
   "metadata": {},
   "outputs": [],
   "source": [
    "from multiscale_BM_utils import save_graph_to_png"
   ]
  },
  {
   "cell_type": "code",
   "execution_count": 11,
   "id": "55dff25c",
   "metadata": {},
   "outputs": [],
   "source": [
    "from selenium import webdriver"
   ]
  },
  {
   "cell_type": "code",
   "execution_count": 15,
   "id": "dfbb0ddd",
   "metadata": {},
   "outputs": [],
   "source": [
    "driver = webdriver.Chrome('/Users/davide/GitHub/multiscaleBM/chromedriver') "
   ]
  },
  {
   "cell_type": "code",
   "execution_count": 16,
   "id": "62161c58",
   "metadata": {},
   "outputs": [],
   "source": [
    "epsilon_list = [10, 20, 50]\n",
    "\n",
    "save_graph_to_png(epsilon_list, driver, \n",
    "                  d_matrix,\n",
    "                  distance_from_landmarks,\n",
    "                  color_of_landmarks,\n",
    "                  plot_width = 700,\n",
    "                  plot_height = 700,\n",
    "                  filename = 'img/plot', \n",
    "                  add_colorbar = False,\n",
    "                  exponential_scaling=True)"
   ]
  },
  {
   "cell_type": "code",
   "execution_count": null,
   "id": "435b274d",
   "metadata": {},
   "outputs": [],
   "source": []
  },
  {
   "cell_type": "code",
   "execution_count": null,
   "id": "2417b40f",
   "metadata": {},
   "outputs": [],
   "source": []
  }
 ],
 "metadata": {
  "kernelspec": {
   "display_name": "Python 3",
   "language": "python",
   "name": "python3"
  },
  "language_info": {
   "codemirror_mode": {
    "name": "ipython",
    "version": 3
   },
   "file_extension": ".py",
   "mimetype": "text/x-python",
   "name": "python",
   "nbconvert_exporter": "python",
   "pygments_lexer": "ipython3",
   "version": "3.8.6"
  }
 },
 "nbformat": 4,
 "nbformat_minor": 5
}
