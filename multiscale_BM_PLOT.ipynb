{
 "cells": [
  {
   "cell_type": "code",
   "execution_count": 1,
   "id": "73e6f93e",
   "metadata": {},
   "outputs": [],
   "source": [
    "import networkx as nx\n",
    "\n",
    "import numpy as np\n",
    "import pandas as pd\n",
    "\n",
    "from scipy.spatial import distance_matrix\n",
    "\n",
    "from bokeh.io import show, output_file\n",
    "from bokeh.models import (Plot, Range1d, MultiLine, Circle, TapTool, OpenURL, HoverTool, CustomJS, \n",
    "                         Slider, Column, StaticLayoutProvider)\n",
    "from bokeh.plotting import figure, from_networkx\n",
    "from bokeh.palettes import Spectral4\n",
    "\n",
    "from matplotlib import cm\n",
    "from matplotlib.colors import to_hex\n",
    "\n",
    "from bokeh.models import FixedTicker, LinearColorMapper, LogColorMapper, ColorBar, BasicTicker, LogTicker\n",
    "\n",
    "from tqdm.notebook import tqdm"
   ]
  },
  {
   "cell_type": "code",
   "execution_count": 2,
   "id": "778b1a50",
   "metadata": {},
   "outputs": [
    {
     "data": {
      "text/plain": [
       "array([[ 0.,  9., 10., 18., 21.],\n",
       "       [ 9.,  0.,  2., 18., 20.],\n",
       "       [10.,  2.,  0., 18., 18.],\n",
       "       [18., 18., 18.,  0.,  3.],\n",
       "       [21., 20., 18.,  3.,  0.]])"
      ]
     },
     "execution_count": 2,
     "metadata": {},
     "output_type": "execute_result"
    }
   ],
   "source": [
    "d_matrix = np.loadtxt('output/test_1_edges', delimiter=',')\n",
    "# d_matrix = np.loadtxt('output/jones13n_20_edges', delimiter=',')\n",
    "d_matrix"
   ]
  },
  {
   "cell_type": "code",
   "execution_count": 3,
   "id": "8d4967f9",
   "metadata": {},
   "outputs": [
    {
     "data": {
      "text/plain": [
       "21.0"
      ]
     },
     "execution_count": 3,
     "metadata": {},
     "output_type": "execute_result"
    }
   ],
   "source": [
    "d_matrix.max()"
   ]
  },
  {
   "cell_type": "code",
   "execution_count": 4,
   "id": "489103cf",
   "metadata": {},
   "outputs": [
    {
     "data": {
      "text/plain": [
       "array([[ 0.,  1., 10., 12., 30., 33.],\n",
       "       [ 0.,  2.,  9., 10., 20., 23.],\n",
       "       [ 0.,  2., 11., 12., 18., 21.],\n",
       "       [ 0.,  3., 18., 20., 29., 30.],\n",
       "       [ 0.,  3., 21., 23., 32., 33.]])"
      ]
     },
     "execution_count": 4,
     "metadata": {},
     "output_type": "execute_result"
    }
   ],
   "source": [
    "distance_from_landmarks = np.loadtxt('output/test_1_distance_of_points_in_order_from_landmarks', delimiter=',')\n",
    "# distance_from_landmarks = np.loadtxt('output/jones13n_20_distance_of_points_in_order_from_landmarks', delimiter=',')\n",
    "\n",
    "distance_from_landmarks"
   ]
  },
  {
   "cell_type": "code",
   "execution_count": 5,
   "id": "c19e8831",
   "metadata": {},
   "outputs": [
    {
     "data": {
      "text/plain": [
       "array([[1. , 1.5, 2. , 2.5, 3. , 3.5],\n",
       "       [3. , 3.5, 3. , 2.5, 3. , 3.5],\n",
       "       [4. , 3.5, 3. , 2.5, 3. , 3.5],\n",
       "       [5. , 5.5, 5. , 4.5, 4. , 3.5],\n",
       "       [6. , 5.5, 5. , 4.5, 4. , 3.5]])"
      ]
     },
     "execution_count": 5,
     "metadata": {},
     "output_type": "execute_result"
    }
   ],
   "source": [
    "color_of_landmarks = np.loadtxt('output/test_1_coloration_in_order_from_landmarks', delimiter=',')\n",
    "# color_of_landmarks = np.loadtxt('output/jones13n_20_coloration_in_order_from_landmarks', delimiter=',')\n",
    "color_of_landmarks"
   ]
  },
  {
   "cell_type": "code",
   "execution_count": 6,
   "id": "45ce8751",
   "metadata": {},
   "outputs": [],
   "source": [
    "def create_color_matrix(color_of_landmarks, my_palette):\n",
    "    MAX_VALUE = color_of_landmarks.max()\n",
    "    MIN_VALUE = color_of_landmarks.min()\n",
    "    \n",
    "    color_matrix = []\n",
    "    \n",
    "    for row in tqdm(color_of_landmarks):\n",
    "        color_matrix.append([ to_hex(my_palette((value - MIN_VALUE) / (MAX_VALUE - MIN_VALUE))) for value in row ])\n",
    "        \n",
    "    return color_matrix\n"
   ]
  },
  {
   "cell_type": "code",
   "execution_count": 7,
   "id": "185f7582",
   "metadata": {},
   "outputs": [
    {
     "data": {
      "application/vnd.jupyter.widget-view+json": {
       "model_id": "c50b0c43255147dc8256eb72db4fa790",
       "version_major": 2,
       "version_minor": 0
      },
      "text/plain": [
       "  0%|          | 0/5 [00:00<?, ?it/s]"
      ]
     },
     "metadata": {},
     "output_type": "display_data"
    },
    {
     "data": {
      "text/plain": [
       "[['#000080', '#0000f1', '#004cff', '#00b0ff', '#29ffce', '#7dff7a'],\n",
       " ['#29ffce', '#7dff7a', '#29ffce', '#00b0ff', '#29ffce', '#7dff7a'],\n",
       " ['#ceff29', '#7dff7a', '#29ffce', '#00b0ff', '#29ffce', '#7dff7a'],\n",
       " ['#ff6800', '#f10800', '#ff6800', '#ffc400', '#ceff29', '#7dff7a'],\n",
       " ['#800000', '#f10800', '#ff6800', '#ffc400', '#ceff29', '#7dff7a']]"
      ]
     },
     "execution_count": 7,
     "metadata": {},
     "output_type": "execute_result"
    }
   ],
   "source": [
    "my_palette = cm.get_cmap(name='jet') # multicolor\n",
    "color_matrix = create_color_matrix(color_of_landmarks, my_palette)\n",
    "color_matrix"
   ]
  },
  {
   "cell_type": "code",
   "execution_count": 8,
   "id": "05114569",
   "metadata": {},
   "outputs": [],
   "source": [
    "# define the coordinate of the landmarks\n",
    "# my_landmarks = [[0,0],[0,1],[2,0],[3,3]]\n",
    "# d_matrix = distance_matrix(my_landmarks, my_landmarks)\n",
    "G = nx.from_numpy_matrix(d_matrix)"
   ]
  },
  {
   "cell_type": "code",
   "execution_count": 11,
   "id": "c64a20d9",
   "metadata": {},
   "outputs": [],
   "source": [
    "plot = Plot(plot_width=700, plot_height=700,\n",
    "            x_range=Range1d(-2, 2), y_range=Range1d(-2, 2))\n",
    "plot.toolbar_location = None\n",
    "\n",
    "NODE_SIZE = 20\n",
    "\n",
    "min_epsilon = 0\n",
    "max_epsilon = distance_from_landmarks.max()\n",
    "\n",
    "for edge in G.edges:\n",
    "    G.edges[edge]['alpha'] = 0\n",
    "    \n",
    "for i, node in enumerate(G.nodes):\n",
    "    G.nodes[node]['size_scale'] = NODE_SIZE\n",
    "    G.nodes[node]['size'] = NODE_SIZE\n",
    "    G.nodes[node]['distance_from_landmark'] = distance_from_landmarks[i].tolist()\n",
    "    G.nodes[node]['color_list'] = color_matrix[i]\n",
    "    G.nodes[node]['color'] = color_matrix[i][0]\n",
    "\n",
    "graph_renderer = from_networkx(G, nx.kamada_kawai_layout, scale=1, center=(0, 0))\n",
    "\n",
    "################################\n",
    "# If your landmarks are in the plane use the following two lines to plot them\n",
    "# in their exaxt location\n",
    "# if they are in higher dimension comment them to keep using the kamada_kawai_layout \n",
    "#\n",
    "# convert the my_landmarks lists into a dictionary of 2D-coordinates\n",
    "# and assign each entry to a node on the ``node_indices`` list\n",
    "#graph_layout = dict(zip(list(range(len(my_landmarks))), my_landmarks))\n",
    "\n",
    "# use the provider model to supply coourdinates to the graph\n",
    "#graph_renderer.layout_provider = StaticLayoutProvider(graph_layout=graph_layout)\n",
    "################################\n",
    "\n",
    "graph_renderer.node_renderer.glyph = Circle(size='size', fill_color='color', fill_alpha=0.5)\n",
    "graph_renderer.edge_renderer.glyph = MultiLine(line_color = \"black\", line_alpha = 'alpha', line_width = 2)\n",
    "plot.renderers.append(graph_renderer)\n",
    "\n",
    "code = \"\"\" \n",
    "    var current_epsilon = cb_obj.value;\n",
    "    \n",
    "    var node_data = graph_renderer.node_renderer.data_source.data;\n",
    "    var edge_data = graph_renderer.edge_renderer.data_source.data;\n",
    "    \n",
    "    for (var i = 0; i < node_data['size'].length; i++) {\n",
    "        var counter = 0;\n",
    "        for (var j = 0; j < node_data['distance_from_landmark'][i].length; j++) {\n",
    "            if (node_data['distance_from_landmark'][i][j]  > current_epsilon) { break; }\n",
    "            counter++;\n",
    "        }\n",
    "\n",
    "        //graph_renderer.node_renderer.data_source.data['size'][i] = Math.max(10,Math.min(Math.sqrt(counter*node_data['size_scale'][i]), 100));\n",
    "        graph_renderer.node_renderer.data_source.data['size'][i] = counter*node_data['size_scale'][i];\n",
    "        graph_renderer.node_renderer.data_source.data['color'][i] = graph_renderer.node_renderer.data_source.data['color_list'][i][counter-1];\n",
    "    }\n",
    "    \n",
    "    for (var i = 0; i < edge_data['alpha'].length; i++) {\n",
    "        graph_renderer.edge_renderer.data_source.data['alpha'][i] = + (edge_data['weight'][i] <= current_epsilon);\n",
    "    }\n",
    "    \n",
    "    graph_renderer.node_renderer.data_source.change.emit();\n",
    "    graph_renderer.edge_renderer.data_source.change.emit();\n",
    "    \n",
    "    \n",
    "\"\"\"\n",
    "callback = CustomJS(args = dict(graph_renderer = graph_renderer),\n",
    "                    code = code)\n",
    "slider = Slider(start=min_epsilon, end=max_epsilon, step=0.1, value=min_epsilon,\n",
    "               title='epsilon')\n",
    "slider.js_on_change('value', callback)\n",
    "\n",
    "# # continuous colorbar\n",
    "num_ticks = 100\n",
    "low = color_of_landmarks.min()\n",
    "high = color_of_landmarks.max()\n",
    "\n",
    "color_mapper = LinearColorMapper(palette=[to_hex(my_palette(color_id)) \n",
    "                                          for color_id in np.linspace(0, 1, num_ticks)], \n",
    "                                 low=low, high=high)\n",
    "\n",
    "color_bar = ColorBar(color_mapper=color_mapper, \n",
    "                     major_label_text_font_size='14pt',\n",
    "                     label_standoff=12,\n",
    "                    )\n",
    "\n",
    "plot.add_layout(color_bar, 'right')\n",
    "\n",
    "layout = Column(plot, slider)"
   ]
  },
  {
   "cell_type": "code",
   "execution_count": 12,
   "id": "a84e5d44",
   "metadata": {},
   "outputs": [],
   "source": [
    "show(layout)"
   ]
  },
  {
   "cell_type": "code",
   "execution_count": null,
   "id": "8ad700f0",
   "metadata": {},
   "outputs": [],
   "source": []
  },
  {
   "cell_type": "code",
   "execution_count": null,
   "id": "0ffafe86",
   "metadata": {},
   "outputs": [],
   "source": []
  },
  {
   "cell_type": "code",
   "execution_count": null,
   "id": "1db03b4a",
   "metadata": {},
   "outputs": [],
   "source": []
  },
  {
   "cell_type": "code",
   "execution_count": null,
   "id": "1454b1be",
   "metadata": {},
   "outputs": [],
   "source": []
  },
  {
   "cell_type": "code",
   "execution_count": null,
   "id": "8d30111c",
   "metadata": {},
   "outputs": [],
   "source": []
  }
 ],
 "metadata": {
  "kernelspec": {
   "display_name": "Python 3",
   "language": "python",
   "name": "python3"
  },
  "language_info": {
   "codemirror_mode": {
    "name": "ipython",
    "version": 3
   },
   "file_extension": ".py",
   "mimetype": "text/x-python",
   "name": "python",
   "nbconvert_exporter": "python",
   "pygments_lexer": "ipython3",
   "version": "3.8.6"
  }
 },
 "nbformat": 4,
 "nbformat_minor": 5
}
