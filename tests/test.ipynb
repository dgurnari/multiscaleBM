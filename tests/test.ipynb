{
 "cells": [
  {
   "cell_type": "code",
   "execution_count": 1,
   "id": "59b34430",
   "metadata": {},
   "outputs": [],
   "source": [
    "import ballmapper as bm"
   ]
  },
  {
   "cell_type": "code",
   "execution_count": 2,
   "id": "494da286",
   "metadata": {},
   "outputs": [],
   "source": [
    "import numpy as np\n",
    "import pandas as pd\n",
    "\n",
    "import networkx as nx\n",
    "\n",
    "from matplotlib import pyplot as plt"
   ]
  },
  {
   "cell_type": "code",
   "execution_count": 3,
   "id": "fbc043a4",
   "metadata": {},
   "outputs": [
    {
     "data": {
      "text/html": [
       "<div>\n",
       "<style scoped>\n",
       "    .dataframe tbody tr th:only-of-type {\n",
       "        vertical-align: middle;\n",
       "    }\n",
       "\n",
       "    .dataframe tbody tr th {\n",
       "        vertical-align: top;\n",
       "    }\n",
       "\n",
       "    .dataframe thead th {\n",
       "        text-align: right;\n",
       "    }\n",
       "</style>\n",
       "<table border=\"1\" class=\"dataframe\">\n",
       "  <thead>\n",
       "    <tr style=\"text-align: right;\">\n",
       "      <th></th>\n",
       "      <th>x</th>\n",
       "      <th>y</th>\n",
       "    </tr>\n",
       "  </thead>\n",
       "  <tbody>\n",
       "    <tr>\n",
       "      <th>0</th>\n",
       "      <td>1.000000</td>\n",
       "      <td>0.000000</td>\n",
       "    </tr>\n",
       "    <tr>\n",
       "      <th>1</th>\n",
       "      <td>0.995004</td>\n",
       "      <td>0.099833</td>\n",
       "    </tr>\n",
       "    <tr>\n",
       "      <th>2</th>\n",
       "      <td>0.980067</td>\n",
       "      <td>0.198669</td>\n",
       "    </tr>\n",
       "    <tr>\n",
       "      <th>3</th>\n",
       "      <td>0.955336</td>\n",
       "      <td>0.295520</td>\n",
       "    </tr>\n",
       "    <tr>\n",
       "      <th>4</th>\n",
       "      <td>0.921061</td>\n",
       "      <td>0.389418</td>\n",
       "    </tr>\n",
       "  </tbody>\n",
       "</table>\n",
       "</div>"
      ],
      "text/plain": [
       "          x         y\n",
       "0  1.000000  0.000000\n",
       "1  0.995004  0.099833\n",
       "2  0.980067  0.198669\n",
       "3  0.955336  0.295520\n",
       "4  0.921061  0.389418"
      ]
     },
     "execution_count": 3,
     "metadata": {},
     "output_type": "execute_result"
    }
   ],
   "source": [
    "pointcloud = np.array([[np.cos(x), np.sin(x)] for x in np.arange(0, 6.3, 0.1)])\n",
    "points_df = pd.DataFrame(pointcloud, columns=['x', 'y'])\n",
    "points_df.head()\n"
   ]
  },
  {
   "cell_type": "code",
   "execution_count": 4,
   "id": "8e9f5b0c",
   "metadata": {},
   "outputs": [
    {
     "data": {
      "text/plain": [
       "<matplotlib.collections.PathCollection at 0x1249d5dc0>"
      ]
     },
     "execution_count": 4,
     "metadata": {},
     "output_type": "execute_result"
    },
    {
     "data": {
      "image/png": "[encoded data removed]",
      "text/plain": [
       "<Figure size 432x288 with 1 Axes>"
      ]
     },
     "metadata": {
      "needs_background": "light"
     },
     "output_type": "display_data"
    }
   ],
   "source": [
    "plt.scatter(points_df.x, points_df.y)"
   ]
  },
  {
   "cell_type": "markdown",
   "id": "bfb77a87",
   "metadata": {},
   "source": [
    "## Standard BM"
   ]
  },
  {
   "cell_type": "code",
   "execution_count": 5,
   "id": "5a72f544",
   "metadata": {},
   "outputs": [
    {
     "name": "stdout",
     "output_type": "stream",
     "text": [
      "CPU times: user 623 µs, sys: 330 µs, total: 953 µs\n",
      "Wall time: 1.63 ms\n"
     ]
    },
    {
     "name": "stderr",
     "output_type": "stream",
     "text": [
      "+++++++++BallMapperCppInterfacePython+++++++++\n",
      "Number of points : 63\n",
      "values.size() : 63\n",
      "Entering compute_landmarks.\n",
      "landmarks.size() : 21\n",
      "Here are the landmarks: \n",
      "1 , 4 , 7 , 10 , 13 , 16 , 19 , 22 , 25 , 28 , 31 , 34 , 37 , 40 , 43 , 46 , 49 , 52 , 55 , 58 , 61 , coverage.size() : 63\n",
      "Entering internal_procedure_fill_points_covered_by_landmarks.\n",
      "points_covered_by_landmarks.size() : 21\n",
      "Entering internal_procedure_fill_coloring.\n",
      "Entering internal_procedure_build_graph.\n",
      "creating vector of edges.\n",
      "+++++++++ THE END +++++++++\n",
      "\n"
     ]
    }
   ],
   "source": [
    "%%time\n",
    "standard_BM = bm.BallMapper(points_df.values, # the pointcloud, as a numpy array\n",
    "                            points_df.y.values, # a array with the coloring function\n",
    "                            0.25,\n",
    "                            interface='standard') # the radius of the balls\n"
   ]
  },
  {
   "cell_type": "code",
   "execution_count": 6,
   "id": "098d84e2",
   "metadata": {},
   "outputs": [],
   "source": [
    "# standard_BM.landmarks"
   ]
  },
  {
   "cell_type": "code",
   "execution_count": 7,
   "id": "d9d12808",
   "metadata": {},
   "outputs": [
    {
     "data": {
      "text/plain": [
       "[(1, 2),\n",
       " (2, 3),\n",
       " (3, 4),\n",
       " (4, 5),\n",
       " (5, 6),\n",
       " (6, 7),\n",
       " (7, 8),\n",
       " (8, 9),\n",
       " (9, 10),\n",
       " (10, 11),\n",
       " (11, 12),\n",
       " (12, 13),\n",
       " (13, 14),\n",
       " (14, 15),\n",
       " (15, 16),\n",
       " (16, 17),\n",
       " (17, 18),\n",
       " (18, 19),\n",
       " (19, 20),\n",
       " (1, 21),\n",
       " (20, 21)]"
      ]
     },
     "execution_count": 7,
     "metadata": {},
     "output_type": "execute_result"
    }
   ],
   "source": [
    "standard_BM.edges"
   ]
  },
  {
   "cell_type": "code",
   "execution_count": 8,
   "id": "36d6f614",
   "metadata": {},
   "outputs": [],
   "source": [
    "# standard_BM.points_covered_by_landmarks"
   ]
  },
  {
   "cell_type": "code",
   "execution_count": 9,
   "id": "f086f353",
   "metadata": {},
   "outputs": [
    {
     "data": {
      "image/png": "[encoded data removed]",
      "text/plain": [
       "<Figure size 432x288 with 1 Axes>"
      ]
     },
     "metadata": {},
     "output_type": "display_data"
    }
   ],
   "source": [
    "G = nx.Graph()\n",
    "G.add_edges_from(standard_BM.edges)\n",
    "nx.draw_networkx(G, \n",
    "                 pos=nx.spring_layout(G, seed=24))"
   ]
  },
  {
   "cell_type": "code",
   "execution_count": null,
   "id": "a672ee67",
   "metadata": {},
   "outputs": [],
   "source": []
  },
  {
   "cell_type": "markdown",
   "id": "72c720f8",
   "metadata": {},
   "source": [
    "## Equivariant BM WHY IS NOT RETURNIN THE SAME GRAPH?\n",
    "## Landmarks are different\n",
    "\n",
    "the bug is in compute_landmarks_not_transposed_pts_group_action"
   ]
  },
  {
   "cell_type": "code",
   "execution_count": 10,
   "id": "6c268dab",
   "metadata": {},
   "outputs": [],
   "source": [
    "orbit = [ [i,] for i in range(1, len(points_df)+1)] # trivial orbit"
   ]
  },
  {
   "cell_type": "code",
   "execution_count": 11,
   "id": "556b576b",
   "metadata": {},
   "outputs": [
    {
     "name": "stdout",
     "output_type": "stream",
     "text": [
      "CPU times: user 1.51 ms, sys: 808 µs, total: 2.32 ms\n",
      "Wall time: 4.75 ms\n"
     ]
    },
    {
     "name": "stderr",
     "output_type": "stream",
     "text": [
      "+++++++++SimplifiedBallMapperCppInterfaceGroupActionAndSparseRepresentationPython+++++++++\n",
      "\n",
      "Number of points : 63\n",
      "orbit.size() : 63\n",
      "values.size() : 63\n",
      "Entering compute_landmarks_not_transposed_pts_group_action.\n",
      "landmarks.size() : 25\n",
      "Here are the landmarks: \n",
      "1 , 2 , 5 , 6 , 8 , 10 , 11 , 14 , 19 , 20 , 23 , 24 , 26 , 29 , 32 , 34 , 35 , 38 , 41 , 44 , 49 , 51 , 53 , 54 , 59 , coverage.size() : 63\n",
      "Entering internal_procedure_fill_points_covered_by_landmarks.\n",
      "points_covered_by_landmarks.size() : 25\n",
      "Entering internal_procedure_fill_coloring.\n",
      "Entering internal_procedure_build_graph.\n",
      "creating list of edges.\n",
      "+++++++++ THE END +++++++++\n",
      "\n"
     ]
    }
   ],
   "source": [
    "%%time\n",
    "equivariant_BM = bm.BallMapper(points_df.values, # the pointcloud, as a numpy array\n",
    "                               points_df.y.values, # a array with the coloring function\n",
    "                               0.25, # the radius of the balls\n",
    "                               orbit = orbit, interface = 'equivariant') \n"
   ]
  },
  {
   "cell_type": "code",
   "execution_count": 12,
   "id": "48c3de13",
   "metadata": {},
   "outputs": [
    {
     "data": {
      "text/plain": [
       "[(1, 3),\n",
       " (2, 4),\n",
       " (3, 5),\n",
       " (4, 6),\n",
       " (7, 8),\n",
       " (2, 10),\n",
       " (10, 12),\n",
       " (11, 13),\n",
       " (13, 14),\n",
       " (14, 15),\n",
       " (2, 16),\n",
       " (10, 16),\n",
       " (15, 17),\n",
       " (17, 18),\n",
       " (18, 19),\n",
       " (19, 20),\n",
       " (2, 22),\n",
       " (16, 22),\n",
       " (1, 24),\n",
       " (22, 24)]"
      ]
     },
     "execution_count": 12,
     "metadata": {},
     "output_type": "execute_result"
    }
   ],
   "source": [
    "equivariant_BM.edges"
   ]
  },
  {
   "cell_type": "code",
   "execution_count": 13,
   "id": "7392e737",
   "metadata": {},
   "outputs": [
    {
     "data": {
      "image/png": "[encoded data removed]",
      "text/plain": [
       "<Figure size 432x288 with 1 Axes>"
      ]
     },
     "metadata": {},
     "output_type": "display_data"
    }
   ],
   "source": [
    "G = nx.Graph()\n",
    "G.add_edges_from(equivariant_BM.edges)\n",
    "nx.draw_networkx(G, \n",
    "                 pos=nx.spring_layout(G, seed=24))"
   ]
  },
  {
   "cell_type": "code",
   "execution_count": null,
   "id": "63271228",
   "metadata": {},
   "outputs": [],
   "source": []
  }
 ],
 "metadata": {
  "kernelspec": {
   "display_name": "Python 3 (ipykernel)",
   "language": "python",
   "name": "python3"
  },
  "language_info": {
   "codemirror_mode": {
    "name": "ipython",
    "version": 3
   },
   "file_extension": ".py",
   "mimetype": "text/x-python",
   "name": "python",
   "nbconvert_exporter": "python",
   "pygments_lexer": "ipython3",
   "version": "3.8.6"
  }
 },
 "nbformat": 4,
 "nbformat_minor": 5
}
